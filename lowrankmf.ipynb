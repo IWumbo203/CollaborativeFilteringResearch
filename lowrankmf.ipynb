{
 "cells": [
  {
   "cell_type": "markdown",
   "metadata": {},
   "source": [
    "Collaborative Filtering via Matrix Factorization. Future comparisons between efficacy and time complexity when integrating differential privacy"
   ]
  },
  {
   "cell_type": "code",
   "execution_count": 1,
   "metadata": {},
   "outputs": [
    {
     "name": "stdout",
     "output_type": "stream",
     "text": [
      "Using device: cuda\n"
     ]
    }
   ],
   "source": [
    "import os\n",
    "import numpy as np\n",
    "import pandas as pd\n",
    "from diffprivlib.mechanisms import Laplace\n",
    "from sklearn.model_selection import train_test_split\n",
    "import torch\n",
    "import torch.nn as nn\n",
    "import torch.optim as optim\n",
    "from scipy.sparse.linalg import svds\n",
    "\n",
    "device = torch.device(\"cuda\" if torch.cuda.is_available() else \"cpu\")\n",
    "print(f\"Using device: {device}\")"
   ]
  },
  {
   "cell_type": "code",
   "execution_count": 2,
   "metadata": {},
   "outputs": [
    {
     "name": "stdout",
     "output_type": "stream",
     "text": [
      "MovieID    1.0     2.0     3.0     4.0     5.0       6.0     7.0     8.0     \\\n",
      "UserID                                                                        \n",
      "1.0      4.805491     0.0     0.0     0.0     0.0  0.000000     0.0     0.0   \n",
      "2.0      0.000000     0.0     0.0     0.0     0.0  0.000000     0.0     0.0   \n",
      "3.0      0.000000     0.0     0.0     0.0     0.0  0.000000     0.0     0.0   \n",
      "4.0      0.000000     0.0     0.0     0.0     0.0  0.000000     0.0     0.0   \n",
      "5.0      0.000000     0.0     0.0     0.0     0.0  1.864472     0.0     0.0   \n",
      "\n",
      "MovieID  9.0     10.0    ...  3943.0  3944.0  3945.0  3946.0  3947.0  3948.0  \\\n",
      "UserID                   ...                                                   \n",
      "1.0         0.0     0.0  ...     0.0     0.0     0.0     0.0     0.0     0.0   \n",
      "2.0         0.0     0.0  ...     0.0     0.0     0.0     0.0     0.0     0.0   \n",
      "3.0         0.0     0.0  ...     0.0     0.0     0.0     0.0     0.0     0.0   \n",
      "4.0         0.0     0.0  ...     0.0     0.0     0.0     0.0     0.0     0.0   \n",
      "5.0         0.0     0.0  ...     0.0     0.0     0.0     0.0     0.0     0.0   \n",
      "\n",
      "MovieID  3949.0  3950.0  3951.0  3952.0  \n",
      "UserID                                   \n",
      "1.0         0.0     0.0     0.0     0.0  \n",
      "2.0         0.0     0.0     0.0     0.0  \n",
      "3.0         0.0     0.0     0.0     0.0  \n",
      "4.0         0.0     0.0     0.0     0.0  \n",
      "5.0         0.0     0.0     0.0     0.0  \n",
      "\n",
      "[5 rows x 3706 columns]\n"
     ]
    }
   ],
   "source": [
    "ratings_list = [i.strip().split(\"::\") for i in open('ml-1m/ratings.dat', 'r').readlines()]\n",
    "users_list = [i.strip().split(\"::\") for i in open('ml-1m/users.dat', 'r').readlines()]\n",
    "movies_list = [i.strip().split(\"::\") for i in open('ml-1m/movies.dat', 'r').readlines()]\n",
    "#movies_list = pd.read_csv(\"ml-latest-small/movies.csv\")\n",
    "#movies_df = pd.read_csv(\"ml-latest-small/movies.csv\")\n",
    "#movies_df = pd.read_csv(\"ml-32m/movies.csv\")\n",
    "\n",
    "ratings = np.array(ratings_list)\n",
    "users = np.array(users_list)\n",
    "movies = np.array(movies_list)\n",
    "\n",
    "ratings_df = pd.DataFrame(ratings_list, columns = ['UserID', 'MovieID', 'Rating', 'Timestamp'], dtype = float)\n",
    "movies_df = pd.DataFrame(movies_list, columns = ['MovieID', 'Title', 'Genres'])\n",
    "movies_df['MovieID'] = movies_df['MovieID'].apply(pd.to_numeric)\n",
    "\n",
    "def apply_dp_with_ibm(df, epsilon=1.0):\n",
    "    dp_mechanism = Laplace(epsilon=epsilon, sensitivity=1)\n",
    "    \n",
    "    df[\"dp_rating\"] = df[\"Rating\"].apply(lambda x: dp_mechanism.randomise(x))\n",
    "    \n",
    "    return df\n",
    "\n",
    "epsilon = 5.0 \n",
    "dp_ratings_df = apply_dp_with_ibm(ratings_df, epsilon=epsilon)\n",
    "\n",
    "R_df = dp_ratings_df.pivot(index = 'UserID', columns ='MovieID', values = 'dp_rating').fillna(0)\n",
    "print(R_df.head())\n",
    "\n",
    "R = R_df.values\n",
    "user_ratings_mean = np.mean(R, axis = 1)\n",
    "R_demeaned = R - user_ratings_mean.reshape(-1, 1)"
   ]
  },
  {
   "cell_type": "code",
   "execution_count": 3,
   "metadata": {},
   "outputs": [],
   "source": [
    "U, sigma, Vt = svds(R_demeaned, k = 50)\n",
    "sigma = np.diag(sigma)\n",
    "\n",
    "all_user_predicted_ratings = np.dot(np.dot(U, sigma), Vt) + user_ratings_mean.reshape(-1, 1)"
   ]
  },
  {
   "cell_type": "code",
   "execution_count": null,
   "metadata": {},
   "outputs": [
    {
     "name": "stdout",
     "output_type": "stream",
     "text": [
      "User 30 has already rated 43 movies.\n",
      "Recommending highest 10 predicted ratings movies not already rated.\n",
      "Already Rated: \n",
      "0     Double Life of Veronique, The (La Double Vie de Véronique) (1991) Drama\n",
      "9     Silence of the Lambs, The (1991)                        Drama|Thriller\n",
      "5     Bamboozled (2000)                                       Comedy\n",
      "41    E.T. the Extra-Terrestrial (1982)                       Children's|Drama|Fantasy|Sci-Fi\n",
      "29    Usual Suspects, The (1995)                              Crime|Thriller\n",
      "31    Schindler's List (1993)                                 Drama|War\n",
      "8     Groundhog Day (1993)                                    Comedy|Romance\n",
      "10    Matrix, The (1999)                                      Action|Sci-Fi|Thriller\n",
      "2     Being John Malkovich (1999)                             Comedy\n",
      "7     Requiem for a Dream (2000)                              Drama\n",
      "3     Terminator 2: Judgment Day (1991)                       Action|Sci-Fi|Thriller\n",
      "28    American Beauty (1999)                                  Comedy|Drama\n",
      "35    Big Blue, The (Le Grand Bleu) (1988)                    Adventure|Romance\n",
      "42    School of Flesh, The (L' École de la chair) (1998)      Drama\n",
      "14    Shawshank Redemption, The (1994)                        Drama\n",
      "24    L.A. Confidential (1997)                                Crime|Film-Noir|Mystery|Thriller\n",
      "18    Love and Basketball (2000)                              Drama|Romance\n",
      "17    Sense and Sensibility (1995)                            Drama|Romance\n",
      "19    Red Violin, The (Le Violon rouge) (1998)                Drama|Mystery\n",
      "20    Sixth Sense, The (1999)                                 Thriller\n",
      "26    Secrets & Lies (1996)                                   Drama\n",
      "37    Saving Private Ryan (1998)                              Action|Drama|War\n",
      "1     Wallace & Gromit: The Best of Aardman Animation (1996)  Animation\n",
      "4     Apollo 13 (1995)                                        Drama\n",
      "6     Insider, The (1999)                                     Drama\n",
      "22    Moonstruck (1987)                                       Comedy\n",
      "12    Whatever (1998)                                         Drama\n",
      "39    Howards End (1992)                                      Drama\n",
      "36    Wonderland (1997)                                       Documentary\n",
      "34    GoodFellas (1990)                                       Crime|Drama\n",
      "23    Pulp Fiction (1994)                                     Crime|Drama\n",
      "16    Awakenings (1990)                                       Drama\n",
      "13    As Good As It Gets (1997)                               Comedy|Drama\n",
      "21    Run Lola Run (Lola rennt) (1998)                        Action|Crime|Romance\n",
      "32    Fargo (1996)                                            Crime|Drama|Thriller\n",
      "33    Hilary and Jackie (1998)                                Drama\n",
      "25    Ponette (1996)                                          Drama\n",
      "11    Crumb (1994)                                            Documentary\n",
      "15    This Is Spinal Tap (1984)                               Comedy|Drama|Musical\n",
      "27    Relic, The (1997)                                       Horror\n",
      "30    Anna and the King (1999)                                Drama|Romance\n",
      "38    Straight Story, The (1999)                              Drama\n",
      "40    Best in Show (2000)                                     Comedy\n",
      "\n",
      "\n",
      "Predictions: \n",
      "1634  Good Will Hunting (1997)                                Drama\n",
      "447   Fugitive, The (1993)                                    Action|Thriller\n",
      "1060  Reservoir Dogs (1992)                                   Crime|Thriller\n",
      "106   Braveheart (1995)                                       Action|Drama|War\n",
      "2302  Shakespeare in Love (1998)                              Comedy|Romance\n",
      "2230  Life Is Beautiful (La Vita è bella) (1997)              Comedy|Drama\n",
      "1318  Sling Blade (1996)                                      Drama|Thriller\n",
      "34    Dead Man Walking (1995)                                 Drama\n",
      "2502  Election (1999)                                         Comedy\n",
      "253   Star Wars: Episode IV - A New Hope (1977)               Action|Adventure|Fantasy|Sci-Fi\n"
     ]
    }
   ],
   "source": [
    "preds_df = pd.DataFrame(all_user_predicted_ratings, columns = R_df.columns)\n",
    "preds_df.head()\n",
    "def recommend_movies(predictions_df, userID, movies_df, original_ratings_df, num_recommendations=5):\n",
    "    user_row_number = userID - 1\n",
    "    sorted_user_predictions = preds_df.iloc[user_row_number].sort_values(ascending=False)\n",
    "    \n",
    "    user_data = original_ratings_df[original_ratings_df.UserID == (userID)]\n",
    "    user_full = (user_data.merge(movies_df, how = 'left', left_on = 'MovieID', right_on = 'MovieID').\n",
    "                     sort_values(['Rating'], ascending=False)\n",
    "                 )\n",
    "\n",
    "    print('User {0} has already rated {1} movies.'.format(userID, user_full.shape[0]))\n",
    "    print('Recommending highest {0} predicted ratings movies not already rated.'.format(num_recommendations))\n",
    "    \n",
    "    recommendations = (movies_df[~movies_df['MovieID'].isin(user_full['MovieID'])].\n",
    "         merge(pd.DataFrame(sorted_user_predictions).reset_index(), how = 'left',\n",
    "               left_on = 'MovieID',\n",
    "               right_on = 'MovieID').\n",
    "         rename(columns = {user_row_number: 'Predictions'}).\n",
    "         sort_values('Predictions', ascending = False).\n",
    "                       iloc[:num_recommendations, :-1]\n",
    "                      )\n",
    "\n",
    "    return user_full, recommendations\n",
    "\n",
    "already_rated, predictions = recommend_movies(preds_df, 30, movies_df, ratings_df, 10)\n",
    "print(\"Already Rated: \")\n",
    "for idx, row in already_rated.iterrows():\n",
    "    print(f\"{idx:<5} {row['Title']:<55} {row['Genres']}\")\n",
    "print(\"\\n\")\n",
    "print(\"Predictions: \")\n",
    "for idx, row in predictions.iterrows():\n",
    "    print(f\"{idx:<5} {row['Title']:<55} {row['Genres']}\")"
   ]
  }
 ],
 "metadata": {
  "kernelspec": {
   "display_name": "Python 3",
   "language": "python",
   "name": "python3"
  },
  "language_info": {
   "codemirror_mode": {
    "name": "ipython",
    "version": 3
   },
   "file_extension": ".py",
   "mimetype": "text/x-python",
   "name": "python",
   "nbconvert_exporter": "python",
   "pygments_lexer": "ipython3",
   "version": "3.11.9"
  }
 },
 "nbformat": 4,
 "nbformat_minor": 2
}
